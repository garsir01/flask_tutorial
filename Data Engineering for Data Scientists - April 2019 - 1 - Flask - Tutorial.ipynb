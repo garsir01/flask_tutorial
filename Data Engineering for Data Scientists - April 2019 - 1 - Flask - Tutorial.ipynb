{
 "cells": [
  {
   "cell_type": "markdown",
   "metadata": {},
   "source": [
    "# Data Engineering for Data Scientists\n",
    "### Flask Tutorial\n",
    "* **Organisation:** BBC\n",
    "* **Dates:** 29th - 30th April 2019\n",
    "* **Instructor:** John Sandall\n",
    "* **Contact:** john@coefficient.ai / [@john_sandall](https://twitter.com/john_sandall)\n",
    "\n",
    "---"
   ]
  },
  {
   "cell_type": "markdown",
   "metadata": {},
   "source": [
    "# Lab: Create a virtual environment & install Flask"
   ]
  },
  {
   "cell_type": "markdown",
   "metadata": {},
   "source": [
    "> #### Exercise 1: Create an Anaconda environment\n",
    "> 1. Create a new directory within your project folder called `flask_tutorial`.\n",
    "> 2. In your CLI, change directory into the new `flask_tutorial` folder.\n",
    "> 3. Create an Anaconda environment called `flask_tutorial`: **`conda create -n flask_tutorial python=3.7`**\n",
    "> 4. Activate your virtual environment: **`conda activate flask_tutorial`**\n",
    "---"
   ]
  },
  {
   "cell_type": "markdown",
   "metadata": {},
   "source": [
    "> #### Exercise 2: Install Flask and create a requirements file\n",
    "> 1. Install [Flask](http://flask.pocoo.org/) and flask-sqlalchemy: **`pip install Flask flask-sqlalchemy`**\n",
    "> 2. Generate a requirements file inside the `flask_tutorial/` directory: **`pip freeze > requirements.txt`**\n",
    "---"
   ]
  },
  {
   "cell_type": "markdown",
   "metadata": {},
   "source": [
    "# Lab: Hello World!"
   ]
  },
  {
   "cell_type": "markdown",
   "metadata": {},
   "source": [
    "> #### Exercise: Create a Hello World app and run the local dev server \n",
    "> 1. Copy the code below into a file called `flask_app.py`\n",
    "> 2. Run the following on your local CLI: **`FLASK_APP=flask_app.py flask run`**\n",
    "> 3. Check out your Flask app in your browser by visiting: http://127.0.0.1:5000/\n",
    "> 4. Try refreshing the page and note what appears in the Flask logs on the command line.\n",
    "> 5. Try changing the return message in the `hello()` function to read something else. Does Flask auto-update? Do you need to reload the server?\n",
    "---"
   ]
  },
  {
   "cell_type": "code",
   "execution_count": null,
   "metadata": {},
   "outputs": [],
   "source": [
    "# flask_app.py\n",
    "from flask import Flask\n",
    "app = Flask(__name__)\n",
    "app.config[\"DEBUG\"] = True\n",
    "\n",
    "@app.route(\"/\")\n",
    "def hello():\n",
    "    return \"Hello World!\"\n"
   ]
  },
  {
   "cell_type": "markdown",
   "metadata": {},
   "source": [
    "# Lab: Deploy!"
   ]
  },
  {
   "cell_type": "markdown",
   "metadata": {},
   "source": [
    "> #### Exercise 1: Create a git repository and add your code to version control\n",
    "> 1. You should currently have `flask_app.py` and `requirement.txt` in `flask_tutorial/`. Initialise a git repository with **`git init`** (you must be inside `flask_tutorial` when you do this).\n",
    "> 2. Configure git with your credentials:\n",
    ">   - **`git config --global user.name \"Your Name\"`**\n",
    ">   - **`git config --global user.email you@example.com`**\n",
    "> 3. Create a new file called `.gitignore` and add the following:\n",
    "```\n",
    "*.pyc\n",
    "*~\n",
    "__pycache__\n",
    "db.sqlite3\n",
    ".DS_Store\n",
    "```\n",
    "> 4. Check/add/commit:\n",
    ">   - **`git status`**\n",
    ">   - **`git add --all .`**\n",
    ">   - **`git commit -m \"Initial commit\"`**\n",
    "---"
   ]
  },
  {
   "cell_type": "markdown",
   "metadata": {},
   "source": [
    "> #### Exercise 2: Push your code to GitHub\n",
    "> 1. Go to [GitHub.com](https://www.github.com/) and login/register for an account.\n",
    "> 2. Create a new repository called `flask-tutorial`:\n",
    ">   - Leave `Initialize with a README` unchecked.\n",
    ">   - Leave .gitignore option blank.\n",
    ">   - Leave License as None.\n",
    ">   - Public or Private...up to you! GitHub now allows private repos on free accounts with up to 3 collaborators.\n",
    "> 3. Setup SSH access to GitHub by [adding a locally generated SSH key to GitHub](https://help.github.com/en/articles/connecting-to-github-with-ssh). Don't forget to add your key with e.g. `ssh-add ~/.ssh/id_rsa`\n",
    "> 4. Copy your repo's clone URL and add it as a remote origin from your CLI in the `flask_tutorial/` folder: **`git remote add origin git@github.com:<GITHUB_USERNAME>/flask-tutorial.git`**\n",
    "> 5. You should be able to now push your initial commit to GitHub: **`git push -u origin master`**\n",
    "> 6. Check your repo on GitHub to ensure your code is there.\n",
    "---"
   ]
  },
  {
   "cell_type": "markdown",
   "metadata": {},
   "source": [
    "> #### Exercise 3: Deploy your code to PythonAnywhere\n",
    "> 1. Sign up for a free account on https://eu.pythonanywhere.com. (_N.B. When choosing your username here, bear in mind that your app's URL will take the form yourusername.pythonanywhere.com, so choose wisely._)\n",
    "> 2. Take the tour, have a look around and understand how the service works, what's in Dashboard vs Consoles vs Files vs Web vs Tasks vs Databases.\n",
    "> 3. When you're ready, start a new Bash console from the Consoles page.\n",
    "> 4. The free PythonAnywhere account only allows access to external sites (e.g. GitHub) over HTTPS (not SSH), so your will need to provide your GitHub username/password instead of creating an SSH keypair. If your repo is public, this step isn't needed as you won't need to authenticate for read access. Otherwise, you may wish to enable git credential caching with a 24hr timeour: **`git config --global credential.helper 'cache --timeout=86400'`**\n",
    "> 5. If you have 2FA enabled on your GitHub account, you will need to generate a [personal access token](https://help.github.com/en/articles/creating-a-personal-access-token-for-the-command-line) to use instead of your password.\n",
    "> 6. Clone your repo using HTTPS: **`git clone https://github.com/<GITHUB_USERNAME>/flask-tutorial.git flask_tutorial`**\n",
    "> 7. **`cd flask_tutorial/`**\n",
    "> 8. Create a virtualenv: **`mkvirtualenv --python=/usr/bin/python3.7 flask_tutorial`**\n",
    "> 9. Install the requirements specified in your repo: **`pip install -r requirements.txt`**\n",
    "> 10. Create a PythonAnywhere Web App:\n",
    ">   - Open a new tab to the PythonAnywhere Dashboard and navigate to the Web tab.\n",
    ">   - Click \"Add a new web app\" (_this will create your app at `<USERNAME>.eu.pythonanywhere.com`_)\n",
    ">   - Select \"Flask\" then \"Python 3.7\"\n",
    ">   - Change the Path to `/home/<USERNAME>/flask_tutorial/flask_app.py`\n",
    "> 11. On the following page, under \"Virtualenv\", enter `flask_tutorial`, reload your app and check it out by visiting http://USERNAME.eu.pythonanywhere.com/.\n",
    "\n",
    "Take a moment to give yourself a big pat on the back! Server deployments are one of the trickiest parts of web development and it often takes people several days before they get them working. But you've got your Flask app live on in the internet in no time!\n",
    "\n",
    "---\n"
   ]
  },
  {
   "cell_type": "markdown",
   "metadata": {},
   "source": [
    "> #### Exercise 4: Practise your deploy process\n",
    "> 1. Back on your local CLI try adding a new app route that returns a different string.\n",
    "> 2. Test it out locally with: **`FLASK_APP=flask_app.py flask run`** and visit your new app routing.\n",
    "> 3. When you're happy, git add/commit/push locally on your machine.\n",
    "> 4. In the PythonAnywhere bash console, run a `git fetch` and `git pull` to bring in your latest changes, then reload your site from the Web tab to view your changes live in production.\n",
    "\n",
    "---"
   ]
  }
 ],
 "metadata": {
  "kernelspec": {
   "display_name": "Python 3",
   "language": "python",
   "name": "python3"
  },
  "language_info": {
   "codemirror_mode": {
    "name": "ipython",
    "version": 3
   },
   "file_extension": ".py",
   "mimetype": "text/x-python",
   "name": "python",
   "nbconvert_exporter": "python",
   "pygments_lexer": "ipython3",
   "version": "3.7.3"
  }
 },
 "nbformat": 4,
 "nbformat_minor": 1
}
